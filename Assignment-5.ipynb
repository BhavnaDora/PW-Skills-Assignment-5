{
 "cells": [
  {
   "cell_type": "markdown",
   "id": "f2059ed1-0de1-405d-ae08-16c19db9dbb5",
   "metadata": {},
   "source": [
    "#### (1)"
   ]
  },
  {
   "cell_type": "code",
   "execution_count": 8,
   "id": "77d75bb5-4a1f-46ba-b172-12f076519ef5",
   "metadata": {},
   "outputs": [
    {
     "data": {
      "text/plain": [
       "[('Virat Kohli', 24936),\n",
       " ('Jack Kallis', 25534),\n",
       " ('Ricky Ponting', 27483),\n",
       " ('Sachin Tendulkar', 34357)]"
      ]
     },
     "execution_count": 8,
     "metadata": {},
     "output_type": "execute_result"
    }
   ],
   "source": [
    "l1= [('Sachin Tendulkar', 34357), ('Ricky Ponting', 27483), ('Jack Kallis', 25534), ('Virat Kohli', 24936)]\n",
    "l1.sort(key= lambda x: x[-1])\n",
    "l1\n"
   ]
  },
  {
   "cell_type": "markdown",
   "id": "c873ef16-5fe0-4cee-a62b-57255afb4f85",
   "metadata": {},
   "source": [
    "#### (2)"
   ]
  },
  {
   "cell_type": "code",
   "execution_count": 17,
   "id": "0309a118-6e7e-4d39-b80a-f5ee9065e466",
   "metadata": {},
   "outputs": [
    {
     "data": {
      "text/plain": [
       "[1, 4, 9, 16, 25, 36, 49, 64, 81, 100]"
      ]
     },
     "execution_count": 17,
     "metadata": {},
     "output_type": "execute_result"
    }
   ],
   "source": [
    "l2= [1, 2, 3, 4, 5, 6, 7, 8, 9, 10]\n",
    "\n",
    "squares= list(map(lambda x: x**2, l2))\n",
    "squares"
   ]
  },
  {
   "cell_type": "markdown",
   "id": "2270890b-c51d-4fda-8477-d2d305d079e2",
   "metadata": {},
   "source": [
    "#### (3)"
   ]
  },
  {
   "cell_type": "code",
   "execution_count": 18,
   "id": "5e20af62-3f01-45a4-95f0-ccb241eef80c",
   "metadata": {},
   "outputs": [
    {
     "data": {
      "text/plain": [
       "('1', '2', '3', '4', '5', '6', '7', '8', '9', '10')"
      ]
     },
     "execution_count": 18,
     "metadata": {},
     "output_type": "execute_result"
    }
   ],
   "source": [
    "l3= [1, 2, 3, 4, 5, 6, 7, 8, 9, 10]\n",
    "\n",
    "int_to_str= tuple(map(lambda x: str(x),  l3))\n",
    "int_to_str"
   ]
  },
  {
   "cell_type": "markdown",
   "id": "dea62df8-9eb6-4457-90e9-16be8270b129",
   "metadata": {},
   "source": [
    "#### (4)"
   ]
  },
  {
   "cell_type": "code",
   "execution_count": 8,
   "id": "1ef756b8-0d21-4493-960c-7194993ddb27",
   "metadata": {},
   "outputs": [],
   "source": [
    "from functools import reduce"
   ]
  },
  {
   "cell_type": "code",
   "execution_count": 19,
   "id": "9864677a-c2ae-466f-ba98-084925e06369",
   "metadata": {},
   "outputs": [
    {
     "data": {
      "text/plain": [
       "15511210043330985984000000"
      ]
     },
     "execution_count": 19,
     "metadata": {},
     "output_type": "execute_result"
    }
   ],
   "source": [
    "l4= [1,2,3,4,5,6,7,8,9,10,11,12,13,14,15,16,17,18,19,20,21,22,23,24,25]\n",
    "\n",
    "product= reduce(lambda x,y: x*y,  l4)\n",
    "product"
   ]
  },
  {
   "cell_type": "markdown",
   "id": "b1ed9b2f-44b9-436f-bdd9-bdc98d787e14",
   "metadata": {},
   "source": [
    "#### (5)"
   ]
  },
  {
   "cell_type": "code",
   "execution_count": 20,
   "id": "abb34c5a-1af3-435f-9d65-57f7b0d6daf1",
   "metadata": {},
   "outputs": [
    {
     "data": {
      "text/plain": [
       "[6, 60, 90, 120]"
      ]
     },
     "execution_count": 20,
     "metadata": {},
     "output_type": "execute_result"
    }
   ],
   "source": [
    "l5= [2, 3, 6, 9, 27, 60, 90, 120, 55, 46]\n",
    "\n",
    "divisible= list(filter(lambda x: x%2==0 and x%3==0,  l5))\n",
    "divisible"
   ]
  },
  {
   "cell_type": "markdown",
   "id": "25d995b5-c67b-4d3a-bb61-6403329ab616",
   "metadata": {},
   "source": [
    "#### (6)"
   ]
  },
  {
   "cell_type": "code",
   "execution_count": 21,
   "id": "eb594ffe-308b-46ec-b246-ac7a4480a55f",
   "metadata": {},
   "outputs": [
    {
     "data": {
      "text/plain": [
       "['php', 'aba', 'radar', 'level']"
      ]
     },
     "execution_count": 21,
     "metadata": {},
     "output_type": "execute_result"
    }
   ],
   "source": [
    "l6= ['python', 'php', 'aba', 'radar', 'level']\n",
    "\n",
    "palindromes= list(filter(lambda x: x==x[::-1],  l6))\n",
    "palindromes"
   ]
  },
  {
   "cell_type": "code",
   "execution_count": null,
   "id": "b1b038b5-9f80-425d-953a-d981f6f18fd4",
   "metadata": {},
   "outputs": [],
   "source": []
  }
 ],
 "metadata": {
  "kernelspec": {
   "display_name": "Python 3 (ipykernel)",
   "language": "python",
   "name": "python3"
  },
  "language_info": {
   "codemirror_mode": {
    "name": "ipython",
    "version": 3
   },
   "file_extension": ".py",
   "mimetype": "text/x-python",
   "name": "python",
   "nbconvert_exporter": "python",
   "pygments_lexer": "ipython3",
   "version": "3.10.8"
  }
 },
 "nbformat": 4,
 "nbformat_minor": 5
}
